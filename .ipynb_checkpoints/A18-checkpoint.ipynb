{
 "cells": [
  {
   "cell_type": "markdown",
   "id": "35c62817-3a9c-4d98-a8c3-e0db7b8fb13f",
   "metadata": {},
   "source": [
    "# Assignment 18. SQL basic-3"
   ]
  },
  {
   "cell_type": "code",
   "execution_count": 1,
   "id": "09bfb679-e778-4c08-a7ac-c7d71c698c1f",
   "metadata": {
    "collapsed": true,
    "jupyter": {
     "outputs_hidden": true
    },
    "tags": []
   },
   "outputs": [
    {
     "name": "stdout",
     "output_type": "stream",
     "text": [
      "Requirement already satisfied: ipython-sql in /opt/conda/lib/python3.10/site-packages (0.5.0)\n",
      "Requirement already satisfied: ipython-genutils in /opt/conda/lib/python3.10/site-packages (from ipython-sql) (0.2.0)\n",
      "Requirement already satisfied: ipython in /opt/conda/lib/python3.10/site-packages (from ipython-sql) (8.11.0)\n",
      "Requirement already satisfied: six in /opt/conda/lib/python3.10/site-packages (from ipython-sql) (1.16.0)\n",
      "Requirement already satisfied: sqlparse in /opt/conda/lib/python3.10/site-packages (from ipython-sql) (0.4.4)\n",
      "Requirement already satisfied: prettytable in /opt/conda/lib/python3.10/site-packages (from ipython-sql) (3.7.0)\n",
      "Requirement already satisfied: sqlalchemy>=2.0 in /opt/conda/lib/python3.10/site-packages (from ipython-sql) (2.0.7)\n",
      "Requirement already satisfied: greenlet!=0.4.17 in /opt/conda/lib/python3.10/site-packages (from sqlalchemy>=2.0->ipython-sql) (2.0.2)\n",
      "Requirement already satisfied: typing-extensions>=4.2.0 in /opt/conda/lib/python3.10/site-packages (from sqlalchemy>=2.0->ipython-sql) (4.5.0)\n",
      "Requirement already satisfied: matplotlib-inline in /opt/conda/lib/python3.10/site-packages (from ipython->ipython-sql) (0.1.6)\n",
      "Requirement already satisfied: pygments>=2.4.0 in /opt/conda/lib/python3.10/site-packages (from ipython->ipython-sql) (2.14.0)\n",
      "Requirement already satisfied: traitlets>=5 in /opt/conda/lib/python3.10/site-packages (from ipython->ipython-sql) (5.9.0)\n",
      "Requirement already satisfied: prompt-toolkit!=3.0.37,<3.1.0,>=3.0.30 in /opt/conda/lib/python3.10/site-packages (from ipython->ipython-sql) (3.0.38)\n",
      "Requirement already satisfied: decorator in /opt/conda/lib/python3.10/site-packages (from ipython->ipython-sql) (5.1.1)\n",
      "Requirement already satisfied: pickleshare in /opt/conda/lib/python3.10/site-packages (from ipython->ipython-sql) (0.7.5)\n",
      "Requirement already satisfied: pexpect>4.3 in /opt/conda/lib/python3.10/site-packages (from ipython->ipython-sql) (4.8.0)\n",
      "Requirement already satisfied: jedi>=0.16 in /opt/conda/lib/python3.10/site-packages (from ipython->ipython-sql) (0.18.2)\n",
      "Requirement already satisfied: stack-data in /opt/conda/lib/python3.10/site-packages (from ipython->ipython-sql) (0.6.2)\n",
      "Requirement already satisfied: backcall in /opt/conda/lib/python3.10/site-packages (from ipython->ipython-sql) (0.2.0)\n",
      "Requirement already satisfied: wcwidth in /opt/conda/lib/python3.10/site-packages (from prettytable->ipython-sql) (0.2.6)\n",
      "Requirement already satisfied: parso<0.9.0,>=0.8.0 in /opt/conda/lib/python3.10/site-packages (from jedi>=0.16->ipython->ipython-sql) (0.8.3)\n",
      "Requirement already satisfied: ptyprocess>=0.5 in /opt/conda/lib/python3.10/site-packages (from pexpect>4.3->ipython->ipython-sql) (0.7.0)\n",
      "Requirement already satisfied: asttokens>=2.1.0 in /opt/conda/lib/python3.10/site-packages (from stack-data->ipython->ipython-sql) (2.2.1)\n",
      "Requirement already satisfied: pure-eval in /opt/conda/lib/python3.10/site-packages (from stack-data->ipython->ipython-sql) (0.2.2)\n",
      "Requirement already satisfied: executing>=1.2.0 in /opt/conda/lib/python3.10/site-packages (from stack-data->ipython->ipython-sql) (1.2.0)\n",
      "\u001b[33mWARNING: There was an error checking the latest version of pip.\u001b[0m\u001b[33m\n",
      "\u001b[0mPOSTGRESQL_USER=reader\n",
      "POSTGRESQL_PASSWORD=Miba2021\n"
     ]
    }
   ],
   "source": [
    "!pip install ipython-sql\n",
    "\n",
    "%load_ext sql\n",
    "\n",
    "!env | grep POST\n",
    "\n",
    "import os\n",
    "USER = os.environ['POSTGRESQL_USER']\n",
    "PASSWORD = os.environ['POSTGRESQL_PASSWORD']\n",
    "POSTGRESQL_HOST = '10.129.0.25'\n",
    "DBASE_NAME = 'demo'\n",
    "\n",
    "CONNECT_DATA = 'postgresql://{}:{}@{}/{}'.format(\n",
    "    USER,\n",
    "    PASSWORD,\n",
    "    POSTGRESQL_HOST,\n",
    "    DBASE_NAME\n",
    ")"
   ]
  },
  {
   "cell_type": "markdown",
   "id": "697ef633-d6fd-4547-bccc-bc17cef5789b",
   "metadata": {},
   "source": [
    "1. Output a list of tickets, where number of flights>3"
   ]
  },
  {
   "cell_type": "code",
   "execution_count": 10,
   "id": "673d77e7-62fb-4fc3-b800-bb066cca553d",
   "metadata": {
    "tags": []
   },
   "outputs": [
    {
     "name": "stdout",
     "output_type": "stream",
     "text": [
      "10 rows affected.\n"
     ]
    },
    {
     "data": {
      "text/html": [
       "<table>\n",
       "    <thead>\n",
       "        <tr>\n",
       "            <th>ticket_no</th>\n",
       "            <th>number_of_flights</th>\n",
       "        </tr>\n",
       "    </thead>\n",
       "    <tbody>\n",
       "        <tr>\n",
       "            <td>0005432312163</td>\n",
       "            <td>4</td>\n",
       "        </tr>\n",
       "        <tr>\n",
       "            <td>0005432312164</td>\n",
       "            <td>4</td>\n",
       "        </tr>\n",
       "        <tr>\n",
       "            <td>0005432312165</td>\n",
       "            <td>4</td>\n",
       "        </tr>\n",
       "        <tr>\n",
       "            <td>0005432312166</td>\n",
       "            <td>4</td>\n",
       "        </tr>\n",
       "        <tr>\n",
       "            <td>0005432312167</td>\n",
       "            <td>4</td>\n",
       "        </tr>\n",
       "        <tr>\n",
       "            <td>0005432312168</td>\n",
       "            <td>4</td>\n",
       "        </tr>\n",
       "        <tr>\n",
       "            <td>0005432312169</td>\n",
       "            <td>4</td>\n",
       "        </tr>\n",
       "        <tr>\n",
       "            <td>0005432312170</td>\n",
       "            <td>4</td>\n",
       "        </tr>\n",
       "        <tr>\n",
       "            <td>0005432312171</td>\n",
       "            <td>4</td>\n",
       "        </tr>\n",
       "        <tr>\n",
       "            <td>0005432312172</td>\n",
       "            <td>4</td>\n",
       "        </tr>\n",
       "    </tbody>\n",
       "</table>"
      ],
      "text/plain": [
       "[('0005432312163', 4),\n",
       " ('0005432312164', 4),\n",
       " ('0005432312165', 4),\n",
       " ('0005432312166', 4),\n",
       " ('0005432312167', 4),\n",
       " ('0005432312168', 4),\n",
       " ('0005432312169', 4),\n",
       " ('0005432312170', 4),\n",
       " ('0005432312171', 4),\n",
       " ('0005432312172', 4)]"
      ]
     },
     "execution_count": 10,
     "metadata": {},
     "output_type": "execute_result"
    }
   ],
   "source": [
    "%%sql $CONNECT_DATA\n",
    "Select ticket_no, Count(flight_id) AS number_of_flights\n",
    "From Ticket_flights\n",
    "Group by ticket_no\n",
    "Having Count(flight_id) > 3 Limit 10"
   ]
  },
  {
   "cell_type": "markdown",
   "id": "6802119b-f6c1-4422-9736-ec77ab89292c",
   "metadata": {},
   "source": [
    "2. Output a total number of tickets which have exactly 5 flights. Just one number, nothing else."
   ]
  },
  {
   "cell_type": "code",
   "execution_count": 25,
   "id": "9e789161-48c3-4250-b874-0682e1339b4b",
   "metadata": {
    "tags": []
   },
   "outputs": [
    {
     "name": "stdout",
     "output_type": "stream",
     "text": [
      "1 rows affected.\n"
     ]
    },
    {
     "data": {
      "text/html": [
       "<table>\n",
       "    <thead>\n",
       "        <tr>\n",
       "            <th>count</th>\n",
       "        </tr>\n",
       "    </thead>\n",
       "    <tbody>\n",
       "        <tr>\n",
       "            <td>54</td>\n",
       "        </tr>\n",
       "    </tbody>\n",
       "</table>"
      ],
      "text/plain": [
       "[(54,)]"
      ]
     },
     "execution_count": 25,
     "metadata": {},
     "output_type": "execute_result"
    }
   ],
   "source": [
    "%%sql $CONNECT_DATA\n",
    "Select Count(*)\n",
    "From (\n",
    "    Select ticket_no\n",
    "    From Ticket_flights\n",
    "    Group by ticket_no\n",
    "    Having Count(flight_id) = 5\n",
    ") AS tickets_with_5_flights"
   ]
  },
  {
   "cell_type": "markdown",
   "id": "21e26cff-60d9-4d85-869a-d1041122f506",
   "metadata": {},
   "source": [
    "3.Create and fill 2 tables exactly like those below (you will need this script in the exam as well)."
   ]
  },
  {
   "cell_type": "code",
   "execution_count": 1,
   "id": "e3b0d70f-46c9-427a-bc39-1b0d2da9f9dd",
   "metadata": {
    "collapsed": true,
    "jupyter": {
     "outputs_hidden": true
    },
    "tags": []
   },
   "outputs": [
    {
     "name": "stdout",
     "output_type": "stream",
     "text": [
      "Requirement already satisfied: ipython-sql in /opt/conda/lib/python3.10/site-packages (0.5.0)\n",
      "Requirement already satisfied: six in /opt/conda/lib/python3.10/site-packages (from ipython-sql) (1.16.0)\n",
      "Requirement already satisfied: sqlalchemy>=2.0 in /opt/conda/lib/python3.10/site-packages (from ipython-sql) (2.0.7)\n",
      "Requirement already satisfied: ipython in /opt/conda/lib/python3.10/site-packages (from ipython-sql) (8.11.0)\n",
      "Requirement already satisfied: ipython-genutils in /opt/conda/lib/python3.10/site-packages (from ipython-sql) (0.2.0)\n",
      "Requirement already satisfied: prettytable in /opt/conda/lib/python3.10/site-packages (from ipython-sql) (3.7.0)\n",
      "Requirement already satisfied: sqlparse in /opt/conda/lib/python3.10/site-packages (from ipython-sql) (0.4.4)\n",
      "Requirement already satisfied: typing-extensions>=4.2.0 in /opt/conda/lib/python3.10/site-packages (from sqlalchemy>=2.0->ipython-sql) (4.5.0)\n",
      "Requirement already satisfied: greenlet!=0.4.17 in /opt/conda/lib/python3.10/site-packages (from sqlalchemy>=2.0->ipython-sql) (2.0.2)\n",
      "Requirement already satisfied: pickleshare in /opt/conda/lib/python3.10/site-packages (from ipython->ipython-sql) (0.7.5)\n",
      "Requirement already satisfied: traitlets>=5 in /opt/conda/lib/python3.10/site-packages (from ipython->ipython-sql) (5.9.0)\n",
      "Requirement already satisfied: prompt-toolkit!=3.0.37,<3.1.0,>=3.0.30 in /opt/conda/lib/python3.10/site-packages (from ipython->ipython-sql) (3.0.38)\n",
      "Requirement already satisfied: decorator in /opt/conda/lib/python3.10/site-packages (from ipython->ipython-sql) (5.1.1)\n",
      "Requirement already satisfied: jedi>=0.16 in /opt/conda/lib/python3.10/site-packages (from ipython->ipython-sql) (0.18.2)\n",
      "Requirement already satisfied: stack-data in /opt/conda/lib/python3.10/site-packages (from ipython->ipython-sql) (0.6.2)\n",
      "Requirement already satisfied: pexpect>4.3 in /opt/conda/lib/python3.10/site-packages (from ipython->ipython-sql) (4.8.0)\n",
      "Requirement already satisfied: backcall in /opt/conda/lib/python3.10/site-packages (from ipython->ipython-sql) (0.2.0)\n",
      "Requirement already satisfied: matplotlib-inline in /opt/conda/lib/python3.10/site-packages (from ipython->ipython-sql) (0.1.6)\n",
      "Requirement already satisfied: pygments>=2.4.0 in /opt/conda/lib/python3.10/site-packages (from ipython->ipython-sql) (2.14.0)\n",
      "Requirement already satisfied: wcwidth in /opt/conda/lib/python3.10/site-packages (from prettytable->ipython-sql) (0.2.6)\n",
      "Requirement already satisfied: parso<0.9.0,>=0.8.0 in /opt/conda/lib/python3.10/site-packages (from jedi>=0.16->ipython->ipython-sql) (0.8.3)\n",
      "Requirement already satisfied: ptyprocess>=0.5 in /opt/conda/lib/python3.10/site-packages (from pexpect>4.3->ipython->ipython-sql) (0.7.0)\n",
      "Requirement already satisfied: asttokens>=2.1.0 in /opt/conda/lib/python3.10/site-packages (from stack-data->ipython->ipython-sql) (2.2.1)\n",
      "Requirement already satisfied: executing>=1.2.0 in /opt/conda/lib/python3.10/site-packages (from stack-data->ipython->ipython-sql) (1.2.0)\n",
      "Requirement already satisfied: pure-eval in /opt/conda/lib/python3.10/site-packages (from stack-data->ipython->ipython-sql) (0.2.2)\n",
      "\u001b[33mWARNING: There was an error checking the latest version of pip.\u001b[0m\u001b[33m\n",
      "\u001b[0mPOSTGRESQL_USER=reader\n",
      "POSTGRESQL_PASSWORD=Miba2021\n"
     ]
    }
   ],
   "source": [
    "!pip install ipython-sql\n",
    "\n",
    "%load_ext sql\n",
    "\n",
    "!env | grep POST\n",
    "\n",
    "import psycopg2\n",
    "\n",
    "with psycopg2.connect(\n",
    "    dbname='jovyan'\n",
    ") as conn:\n",
    "    with conn.cursor() as cur:\n",
    "        cur.execute('SELECT datname FROM pg_database')\n",
    "        records = cur.fetchall()"
   ]
  },
  {
   "cell_type": "code",
   "execution_count": 9,
   "id": "31a988bd-0ea1-4057-b087-de269625810e",
   "metadata": {
    "collapsed": true,
    "jupyter": {
     "outputs_hidden": true
    },
    "tags": []
   },
   "outputs": [
    {
     "name": "stdout",
     "output_type": "stream",
     "text": [
      "Done.\n",
      "1 rows affected.\n",
      "1 rows affected.\n",
      "1 rows affected.\n",
      "1 rows affected.\n",
      "1 rows affected.\n",
      "1 rows affected.\n",
      "1 rows affected.\n",
      "1 rows affected.\n",
      "1 rows affected.\n",
      "1 rows affected.\n",
      "1 rows affected.\n",
      "1 rows affected.\n"
     ]
    },
    {
     "data": {
      "text/plain": [
       "[]"
      ]
     },
     "execution_count": 9,
     "metadata": {},
     "output_type": "execute_result"
    }
   ],
   "source": [
    "%%sql postgresql:///jovyan\n",
    "CREATE TABLE employees (\n",
    "    employee_id text NOT NULL,\n",
    "    first_name text NOT NULL, \n",
    "    last_name text NOT NULL, \n",
    "    hire_date date NOT NULL,\n",
    "    job_id text NOT NULL,\n",
    "    manager_id text NOT NULL,\n",
    "    department_id text NOT NULL\n",
    ");\n",
    "\n",
    "INSERT INTO employees VALUES ('100', 'Steven', 'King', '1987-06-17', 'AD_PRES', '0', '90');\n",
    "INSERT INTO employees VALUES ('101', 'Neena', 'Kochhar', '1987-06-18', 'AD_VP', '100', '90');\n",
    "INSERT INTO employees VALUES ('102', 'Lex', 'DeHaan', '1987-06-19', 'AD_VP', '100', '90');\n",
    "INSERT INTO employees VALUES ('103', 'Alexander', 'Hunold', '1987-06-20', 'IT_PROG', '102', '60');\n",
    "INSERT INTO employees VALUES ('107', 'Diana', 'Lorents', '1987-06-24', 'IT_ProG', '103', '60');\n",
    "INSERT INTO employees VALUES ('108', 'Nancy', 'Greenberg', '1987-06-25', 'FI_MGR', '101', '100');\n",
    "INSERT INTO employees VALUES ('109', 'Daniel', 'Faviet', '1987-06-26', 'FI_ACCOUNT', '108', '100');\n",
    "INSERT INTO employees VALUES ('114', 'Den', 'Raphaely', '1987-07-01', 'PU_MAN', '100', '30');\n",
    "INSERT INTO employees VALUES ('118', 'Guy', 'Himuro', '1987-07-05', 'PU_CLERK', '114', '30');\n",
    "INSERT INTO employees VALUES ('144', 'Peter', 'Vargas', '1987-07-31', 'ST_CLERK', '114', '50');\n",
    "INSERT INTO employees VALUES ('145', 'John', 'Russell', '1987-08-01', 'SA_MAN', '100', '80');\n",
    "INSERT INTO employees VALUES ('146', 'Karen', 'Partners', '1987-08-02', 'SA_MAN', '100', '80')"
   ]
  },
  {
   "cell_type": "code",
   "execution_count": 10,
   "id": "d5a32f98-129b-44ea-9280-388707ad8911",
   "metadata": {
    "tags": []
   },
   "outputs": [
    {
     "name": "stdout",
     "output_type": "stream",
     "text": [
      "12 rows affected.\n"
     ]
    },
    {
     "data": {
      "text/html": [
       "<table>\n",
       "    <thead>\n",
       "        <tr>\n",
       "            <th>employee_id</th>\n",
       "            <th>first_name</th>\n",
       "            <th>last_name</th>\n",
       "            <th>hire_date</th>\n",
       "            <th>job_id</th>\n",
       "            <th>manager_id</th>\n",
       "            <th>department_id</th>\n",
       "        </tr>\n",
       "    </thead>\n",
       "    <tbody>\n",
       "        <tr>\n",
       "            <td>100</td>\n",
       "            <td>Steven</td>\n",
       "            <td>King</td>\n",
       "            <td>1987-06-17</td>\n",
       "            <td>AD_PRES</td>\n",
       "            <td>0</td>\n",
       "            <td>90</td>\n",
       "        </tr>\n",
       "        <tr>\n",
       "            <td>101</td>\n",
       "            <td>Neena</td>\n",
       "            <td>Kochhar</td>\n",
       "            <td>1987-06-18</td>\n",
       "            <td>AD_VP</td>\n",
       "            <td>100</td>\n",
       "            <td>90</td>\n",
       "        </tr>\n",
       "        <tr>\n",
       "            <td>102</td>\n",
       "            <td>Lex</td>\n",
       "            <td>DeHaan</td>\n",
       "            <td>1987-06-19</td>\n",
       "            <td>AD_VP</td>\n",
       "            <td>100</td>\n",
       "            <td>90</td>\n",
       "        </tr>\n",
       "        <tr>\n",
       "            <td>103</td>\n",
       "            <td>Alexander</td>\n",
       "            <td>Hunold</td>\n",
       "            <td>1987-06-20</td>\n",
       "            <td>IT_PROG</td>\n",
       "            <td>102</td>\n",
       "            <td>60</td>\n",
       "        </tr>\n",
       "        <tr>\n",
       "            <td>107</td>\n",
       "            <td>Diana</td>\n",
       "            <td>Lorents</td>\n",
       "            <td>1987-06-24</td>\n",
       "            <td>IT_ProG</td>\n",
       "            <td>103</td>\n",
       "            <td>60</td>\n",
       "        </tr>\n",
       "        <tr>\n",
       "            <td>108</td>\n",
       "            <td>Nancy</td>\n",
       "            <td>Greenberg</td>\n",
       "            <td>1987-06-25</td>\n",
       "            <td>FI_MGR</td>\n",
       "            <td>101</td>\n",
       "            <td>100</td>\n",
       "        </tr>\n",
       "        <tr>\n",
       "            <td>109</td>\n",
       "            <td>Daniel</td>\n",
       "            <td>Faviet</td>\n",
       "            <td>1987-06-26</td>\n",
       "            <td>FI_ACCOUNT</td>\n",
       "            <td>108</td>\n",
       "            <td>100</td>\n",
       "        </tr>\n",
       "        <tr>\n",
       "            <td>114</td>\n",
       "            <td>Den</td>\n",
       "            <td>Raphaely</td>\n",
       "            <td>1987-07-01</td>\n",
       "            <td>PU_MAN</td>\n",
       "            <td>100</td>\n",
       "            <td>30</td>\n",
       "        </tr>\n",
       "        <tr>\n",
       "            <td>118</td>\n",
       "            <td>Guy</td>\n",
       "            <td>Himuro</td>\n",
       "            <td>1987-07-05</td>\n",
       "            <td>PU_CLERK</td>\n",
       "            <td>114</td>\n",
       "            <td>30</td>\n",
       "        </tr>\n",
       "        <tr>\n",
       "            <td>144</td>\n",
       "            <td>Peter</td>\n",
       "            <td>Vargas</td>\n",
       "            <td>1987-07-31</td>\n",
       "            <td>ST_CLERK</td>\n",
       "            <td>114</td>\n",
       "            <td>50</td>\n",
       "        </tr>\n",
       "        <tr>\n",
       "            <td>145</td>\n",
       "            <td>John</td>\n",
       "            <td>Russell</td>\n",
       "            <td>1987-08-01</td>\n",
       "            <td>SA_MAN</td>\n",
       "            <td>100</td>\n",
       "            <td>80</td>\n",
       "        </tr>\n",
       "        <tr>\n",
       "            <td>146</td>\n",
       "            <td>Karen</td>\n",
       "            <td>Partners</td>\n",
       "            <td>1987-08-02</td>\n",
       "            <td>SA_MAN</td>\n",
       "            <td>100</td>\n",
       "            <td>80</td>\n",
       "        </tr>\n",
       "    </tbody>\n",
       "</table>"
      ],
      "text/plain": [
       "[('100', 'Steven', 'King', datetime.date(1987, 6, 17), 'AD_PRES', '0', '90'),\n",
       " ('101', 'Neena', 'Kochhar', datetime.date(1987, 6, 18), 'AD_VP', '100', '90'),\n",
       " ('102', 'Lex', 'DeHaan', datetime.date(1987, 6, 19), 'AD_VP', '100', '90'),\n",
       " ('103', 'Alexander', 'Hunold', datetime.date(1987, 6, 20), 'IT_PROG', '102', '60'),\n",
       " ('107', 'Diana', 'Lorents', datetime.date(1987, 6, 24), 'IT_ProG', '103', '60'),\n",
       " ('108', 'Nancy', 'Greenberg', datetime.date(1987, 6, 25), 'FI_MGR', '101', '100'),\n",
       " ('109', 'Daniel', 'Faviet', datetime.date(1987, 6, 26), 'FI_ACCOUNT', '108', '100'),\n",
       " ('114', 'Den', 'Raphaely', datetime.date(1987, 7, 1), 'PU_MAN', '100', '30'),\n",
       " ('118', 'Guy', 'Himuro', datetime.date(1987, 7, 5), 'PU_CLERK', '114', '30'),\n",
       " ('144', 'Peter', 'Vargas', datetime.date(1987, 7, 31), 'ST_CLERK', '114', '50'),\n",
       " ('145', 'John', 'Russell', datetime.date(1987, 8, 1), 'SA_MAN', '100', '80'),\n",
       " ('146', 'Karen', 'Partners', datetime.date(1987, 8, 2), 'SA_MAN', '100', '80')]"
      ]
     },
     "execution_count": 10,
     "metadata": {},
     "output_type": "execute_result"
    }
   ],
   "source": [
    "%%sql postgresql:///jovyan\n",
    "SELECT *\n",
    "FROM employees"
   ]
  },
  {
   "cell_type": "code",
   "execution_count": 11,
   "id": "d95ec1b3-0103-4463-a173-db9e2c88ce34",
   "metadata": {
    "tags": []
   },
   "outputs": [
    {
     "name": "stdout",
     "output_type": "stream",
     "text": [
      "Done.\n",
      "1 rows affected.\n",
      "1 rows affected.\n",
      "1 rows affected.\n",
      "1 rows affected.\n",
      "1 rows affected.\n",
      "1 rows affected.\n",
      "1 rows affected.\n",
      "1 rows affected.\n",
      "1 rows affected.\n",
      "1 rows affected.\n"
     ]
    },
    {
     "data": {
      "text/plain": [
       "[]"
      ]
     },
     "execution_count": 11,
     "metadata": {},
     "output_type": "execute_result"
    }
   ],
   "source": [
    "%%sql postgresql:///jovyan\n",
    "CREATE TABLE departments (\n",
    "    department_id text NOT NULL,\n",
    "    department_name text NOT NULL, \n",
    "    manager_id text NULL\n",
    ");\n",
    "\n",
    "INSERT INTO departments VALUES ('10', 'Administration', '200');\n",
    "INSERT INTO departments VALUES ('30', 'Purchasing', '114');\n",
    "INSERT INTO departments VALUES ('40', 'HumanResources', '203');\n",
    "INSERT INTO departments VALUES ('50', 'Shipping', '121');\n",
    "INSERT INTO departments VALUES ('60', 'IT', '103');\n",
    "INSERT INTO departments VALUES ('70', 'PublicRelations', '204');\n",
    "INSERT INTO departments VALUES ('80', 'Sales', '145');\n",
    "INSERT INTO departments VALUES ('90', 'Executive', '100');\n",
    "INSERT INTO departments VALUES ('100', 'Finance', '108');\n",
    "INSERT INTO departments VALUES ('110', 'Accounting', '205')"
   ]
  },
  {
   "cell_type": "code",
   "execution_count": 12,
   "id": "23659ff4-7916-4c16-b79a-48166675099f",
   "metadata": {
    "tags": []
   },
   "outputs": [
    {
     "name": "stdout",
     "output_type": "stream",
     "text": [
      "10 rows affected.\n"
     ]
    },
    {
     "data": {
      "text/html": [
       "<table>\n",
       "    <thead>\n",
       "        <tr>\n",
       "            <th>department_id</th>\n",
       "            <th>department_name</th>\n",
       "            <th>manager_id</th>\n",
       "        </tr>\n",
       "    </thead>\n",
       "    <tbody>\n",
       "        <tr>\n",
       "            <td>10</td>\n",
       "            <td>Administration</td>\n",
       "            <td>200</td>\n",
       "        </tr>\n",
       "        <tr>\n",
       "            <td>30</td>\n",
       "            <td>Purchasing</td>\n",
       "            <td>114</td>\n",
       "        </tr>\n",
       "        <tr>\n",
       "            <td>40</td>\n",
       "            <td>HumanResources</td>\n",
       "            <td>203</td>\n",
       "        </tr>\n",
       "        <tr>\n",
       "            <td>50</td>\n",
       "            <td>Shipping</td>\n",
       "            <td>121</td>\n",
       "        </tr>\n",
       "        <tr>\n",
       "            <td>60</td>\n",
       "            <td>IT</td>\n",
       "            <td>103</td>\n",
       "        </tr>\n",
       "        <tr>\n",
       "            <td>70</td>\n",
       "            <td>PublicRelations</td>\n",
       "            <td>204</td>\n",
       "        </tr>\n",
       "        <tr>\n",
       "            <td>80</td>\n",
       "            <td>Sales</td>\n",
       "            <td>145</td>\n",
       "        </tr>\n",
       "        <tr>\n",
       "            <td>90</td>\n",
       "            <td>Executive</td>\n",
       "            <td>100</td>\n",
       "        </tr>\n",
       "        <tr>\n",
       "            <td>100</td>\n",
       "            <td>Finance</td>\n",
       "            <td>108</td>\n",
       "        </tr>\n",
       "        <tr>\n",
       "            <td>110</td>\n",
       "            <td>Accounting</td>\n",
       "            <td>205</td>\n",
       "        </tr>\n",
       "    </tbody>\n",
       "</table>"
      ],
      "text/plain": [
       "[('10', 'Administration', '200'),\n",
       " ('30', 'Purchasing', '114'),\n",
       " ('40', 'HumanResources', '203'),\n",
       " ('50', 'Shipping', '121'),\n",
       " ('60', 'IT', '103'),\n",
       " ('70', 'PublicRelations', '204'),\n",
       " ('80', 'Sales', '145'),\n",
       " ('90', 'Executive', '100'),\n",
       " ('100', 'Finance', '108'),\n",
       " ('110', 'Accounting', '205')]"
      ]
     },
     "execution_count": 12,
     "metadata": {},
     "output_type": "execute_result"
    }
   ],
   "source": [
    "%%sql postgresql:///jovyan\n",
    "SELECT * \n",
    "FROM departments"
   ]
  },
  {
   "cell_type": "code",
   "execution_count": 13,
   "id": "07ec224c-1e47-41de-874d-5e4aa68497fa",
   "metadata": {
    "tags": []
   },
   "outputs": [
    {
     "name": "stdout",
     "output_type": "stream",
     "text": [
      "3 rows affected.\n"
     ]
    },
    {
     "data": {
      "text/html": [
       "<table>\n",
       "    <thead>\n",
       "        <tr>\n",
       "            <th>table</th>\n",
       "        </tr>\n",
       "    </thead>\n",
       "    <tbody>\n",
       "        <tr>\n",
       "            <td>writers</td>\n",
       "        </tr>\n",
       "        <tr>\n",
       "            <td>employees</td>\n",
       "        </tr>\n",
       "        <tr>\n",
       "            <td>departments</td>\n",
       "        </tr>\n",
       "    </tbody>\n",
       "</table>"
      ],
      "text/plain": [
       "[('writers',), ('employees',), ('departments',)]"
      ]
     },
     "execution_count": 13,
     "metadata": {},
     "output_type": "execute_result"
    }
   ],
   "source": [
    "%%sql postgresql:///jovyan\n",
    "SELECT tablename AS table FROM pg_tables WHERE tablename !~ '^(pg_|sql_)'"
   ]
  },
  {
   "cell_type": "markdown",
   "id": "574b80af-f5d2-4363-aa95-695a27e92aba",
   "metadata": {},
   "source": [
    "Write a query: output the Department_name which has the longest-working employee in the company, together with the First_name + Last_name of this employee."
   ]
  },
  {
   "cell_type": "code",
   "execution_count": 20,
   "id": "71f03f25-8aae-4bbe-8301-0ee441ab14a5",
   "metadata": {},
   "outputs": [
    {
     "name": "stdout",
     "output_type": "stream",
     "text": [
      "1 rows affected.\n"
     ]
    },
    {
     "data": {
      "text/html": [
       "<table>\n",
       "    <thead>\n",
       "        <tr>\n",
       "            <th>department_name</th>\n",
       "            <th>first_name</th>\n",
       "            <th>last_name</th>\n",
       "        </tr>\n",
       "    </thead>\n",
       "    <tbody>\n",
       "        <tr>\n",
       "            <td>Executive</td>\n",
       "            <td>Steven</td>\n",
       "            <td>King</td>\n",
       "        </tr>\n",
       "    </tbody>\n",
       "</table>"
      ],
      "text/plain": [
       "[('Executive', 'Steven', 'King')]"
      ]
     },
     "execution_count": 20,
     "metadata": {},
     "output_type": "execute_result"
    }
   ],
   "source": [
    "%%sql postgresql:///jovyan\n",
    "Select Department_name, First_name, Last_name\n",
    "From departments\n",
    "Join employees Using (department_id)\n",
    "Where hire_date IN (\n",
    "    Select MIN(hire_date)\n",
    "    From employees)"
   ]
  }
 ],
 "metadata": {
  "kernelspec": {
   "display_name": "Python 3 (ipykernel)",
   "language": "python",
   "name": "python3"
  },
  "language_info": {
   "codemirror_mode": {
    "name": "ipython",
    "version": 3
   },
   "file_extension": ".py",
   "mimetype": "text/x-python",
   "name": "python",
   "nbconvert_exporter": "python",
   "pygments_lexer": "ipython3",
   "version": "3.10.9"
  }
 },
 "nbformat": 4,
 "nbformat_minor": 5
}
